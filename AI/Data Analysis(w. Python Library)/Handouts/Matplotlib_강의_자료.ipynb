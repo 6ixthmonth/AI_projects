{
  "nbformat": 4,
  "nbformat_minor": 0,
  "metadata": {
    "colab": {
      "name": "Matplotlib 강의 자료.ipynb",
      "provenance": [],
      "collapsed_sections": [
        "31khrO09Za_B",
        "mLAueOfQxRyn",
        "4TPQqbKEgNu1",
        "mQld0yHcZa_D",
        "DVFYCHIeZa_D",
        "ddbgnMJiZUNs",
        "e2AaGhwMZa_V",
        "y7AHCItL8C_r",
        "D0Iaece7HZDM",
        "dysxDL5SHj7Z",
        "IQWKHuQWIQwQ",
        "X6-fYczjIaRA",
        "JLLEdloHIVOi"
      ],
      "toc_visible": true
    },
    "language_info": {
      "codemirror_mode": {
        "name": "ipython",
        "version": 3
      },
      "file_extension": ".py",
      "mimetype": "text/x-python",
      "name": "python",
      "nbconvert_exporter": "python",
      "pygments_lexer": "ipython3",
      "version": "3.7.3"
    },
    "kernelspec": {
      "name": "python3",
      "display_name": "Python 3"
    }
  },
  "cells": [
    {
      "cell_type": "markdown",
      "metadata": {
        "id": "31khrO09Za_B"
      },
      "source": [
        "# ![title](https://upload.wikimedia.org/wikipedia/en/5/56/Matplotlib_logo.svg)"
      ]
    },
    {
      "cell_type": "markdown",
      "metadata": {
        "id": "W8c7HMXBZa_C"
      },
      "source": [
        "matplotlib은 데이터 시각화를 위한 파이썬 라이브러리이다.\n",
        "\n",
        "그래프 작성을 위한 공학용 소프트웨어인 MATLAB과 유사하게 사용할 수 있도록 고안되었다.\n",
        "\n",
        "matplotlib을 통해 다양한 도표를 작성할 수 있다.\n",
        "\n",
        "![title](http://codetorial.net/matplotlib/_images/matplotlib_intro2.png)\n",
        "![title](https://upload.wikimedia.org/wikipedia/commons/c/ca/Mpl_screenshot_figures_and_code.png)"
      ]
    },
    {
      "cell_type": "markdown",
      "metadata": {
        "id": "mLAueOfQxRyn"
      },
      "source": [
        "# <font color=\"blue\">matplotlib 불러오기</font>"
      ]
    },
    {
      "cell_type": "markdown",
      "metadata": {
        "id": "R2SSexQTxqwN"
      },
      "source": [
        "matplotlib을 사용할 땐 주로 pyplot이라고 하는 서브 라이브러리를 사용한다.\n",
        "\n",
        "pyplot엔 도표를 그리기 위해 필요한 대부분의 도구들이 포함되어 있다.\n",
        "\n",
        "pyplot은 일반적으로 plt라는 별칭으로 불러온다."
      ]
    },
    {
      "cell_type": "code",
      "metadata": {
        "id": "DIjxiKf3xhGA"
      },
      "source": [
        "import matplotlib.pyplot as plt"
      ],
      "execution_count": null,
      "outputs": []
    },
    {
      "cell_type": "markdown",
      "metadata": {
        "id": "4TPQqbKEgNu1"
      },
      "source": [
        "# <font color=\"blue\">선도표(line plot) 그리기</font>"
      ]
    },
    {
      "cell_type": "markdown",
      "metadata": {
        "id": "mQld0yHcZa_D"
      },
      "source": [
        "## <font color=\"green\">기본적인 그래프 그리기</font>"
      ]
    },
    {
      "cell_type": "markdown",
      "metadata": {
        "id": "fEWHLUTf0c0L"
      },
      "source": [
        "**plot()** 함수는 그래프를 표시하기 전에 데이터를 적용하는 역할을 한다.\n",
        "\n",
        "plot() 함수의 인자로 표시할 데이터를 전달한 후 **show()** 함수를 통해 출력한다."
      ]
    },
    {
      "cell_type": "code",
      "metadata": {
        "id": "9_6470Rk0hGg"
      },
      "source": [
        "plt.plot([0, 1, 2, 3])\n",
        "plt.show()"
      ],
      "execution_count": null,
      "outputs": []
    },
    {
      "cell_type": "markdown",
      "metadata": {
        "id": "qW4dMF620vai"
      },
      "source": [
        "위 코드에서 plot() 함수에 전달된 리스트는 자동으로 y축의 값으로 설정된다. x축의 값 또한 0부터 시작해서 1의 간격으로 자동으로 설정된다.\n",
        "\n",
        "또는 다음 코드와 같이 두 개의 리스트를 전달함으로써 각각 x축의 값, y축의 값으로 설정된 그래프를 그릴 수도 있다."
      ]
    },
    {
      "cell_type": "code",
      "metadata": {
        "id": "Hp9042bb1JRW"
      },
      "source": [
        "plt.plot([2, 4, 6, 8], [1, 16, 4, 9])\n",
        "plt.show()"
      ],
      "execution_count": null,
      "outputs": []
    },
    {
      "cell_type": "markdown",
      "metadata": {
        "id": "tSYFgxVghRvf"
      },
      "source": [
        "리스트 뿐만 아니라 numpy array를 전달할 수도 있다. 실제로 plot() 함수에 전달되는 데이터는 함수 내부에서 numpy array로 처리된다."
      ]
    },
    {
      "cell_type": "code",
      "metadata": {
        "id": "0AFCbzr6id80"
      },
      "source": [
        "import numpy as np\n",
        "\n",
        "x = np.arange(0., 5., .1) # 0.0부터 5.0까지의 범위를 0.1 간격으로 나눈 숫자들로 이루어진 numpy array 생성\n",
        "\n",
        "plt.plot(x, x ** 2)\n",
        "plt.show()"
      ],
      "execution_count": null,
      "outputs": []
    },
    {
      "cell_type": "markdown",
      "metadata": {
        "id": "WXOwmzdEkYxY"
      },
      "source": [
        "하나의 그림에 여러 개의 그래프를 표시할 수도 있다."
      ]
    },
    {
      "cell_type": "code",
      "metadata": {
        "id": "Ddw3LTwTkwwA"
      },
      "source": [
        "x = np.linspace(0, 2 * np.pi, 10) # 0부터 2π까지의 범위를 100개만큼 나눈 숫자들로 이루어진 numpy array 생성\n",
        "\n",
        "plt.plot(x, np.sin(x), x, np.cos(x)) # plt.plot(x1, y1, x2, y2, ...)\n",
        "plt.show()"
      ],
      "execution_count": null,
      "outputs": []
    },
    {
      "cell_type": "markdown",
      "metadata": {
        "id": "DVFYCHIeZa_D"
      },
      "source": [
        "## <font color=\"green\">제목 표시하기</font>"
      ]
    },
    {
      "cell_type": "markdown",
      "metadata": {
        "id": "-NO0MpeFZa_E"
      },
      "source": [
        "**title()** 함수를 이용해서 그림의 제목을 표시할 수 있다.\n",
        "\n",
        "또한 **xlabel()** 함수와 **ylabel()** 함수를 이용해서 각각 x축의 이름과 y축의 이름을 표시할 수 있다.\n",
        "\n"
      ]
    },
    {
      "cell_type": "code",
      "metadata": {
        "id": "vCvVyFB9GffS"
      },
      "source": [
        "plt.plot([\"Jan\", \"Feb\", \"March\"], [104.8, 72.9, 134.7])\n",
        "\n",
        "plt.title(\"Monthly Sales Graph\")\n",
        "plt.xlabel(\"Month\")\n",
        "plt.ylabel(\"Sales\")\n",
        "\n",
        "plt.show()"
      ],
      "execution_count": null,
      "outputs": []
    },
    {
      "cell_type": "markdown",
      "metadata": {
        "id": "YdLBqBq1HiLx"
      },
      "source": [
        "plot() 함수에 label 키워드 인자를 설정함으로써 그래프에 이름을 지정할 수 있다.\n",
        "\n",
        "이렇게 지정된 이름은 **legend()** 함수를 통해 범례로써 표시할 수 있다."
      ]
    },
    {
      "cell_type": "code",
      "metadata": {
        "id": "WY04H8p0J1C_"
      },
      "source": [
        "x  = [1, 2, 3, 4, 5, 6, 7, 8, 9]\n",
        "y1 = [1, 3, 5, 3, 1, 3, 5, 3, 1]\n",
        "y2 = [2, 4, 6, 4, 2, 4, 6, 4, 2]\n",
        "plt.plot(x, y1, label=\"line L\")\n",
        "plt.plot(x, y2, label=\"line H\")\n",
        "plt.plot()\n",
        "\n",
        "plt.xlabel(\"x axis\")\n",
        "plt.ylabel(\"y axis\")\n",
        "plt.title(\"Line Graph Example\")\n",
        "plt.legend()\n",
        "plt.show()"
      ],
      "execution_count": null,
      "outputs": []
    },
    {
      "cell_type": "markdown",
      "metadata": {
        "id": "ddbgnMJiZUNs"
      },
      "source": [
        "### <font color=\"orange\">colab에서 matplotlib을 사용할 때 한글 폰트 사용하기</font>"
      ]
    },
    {
      "cell_type": "markdown",
      "metadata": {
        "id": "AwWHMVFPD0Ed"
      },
      "source": [
        "matplotlib에서 축 이름 등에 한글을 작성하면 제대로 출력되지 않는 걸 확인할 수 있다."
      ]
    },
    {
      "cell_type": "code",
      "metadata": {
        "id": "T75C1I0TDzMc"
      },
      "source": [
        "import numpy as np\n",
        "import matplotlib.pyplot as plt\n",
        "\n",
        "data = np.random.randint(-200, 100, 50).cumsum()\n",
        "plt.plot(range(50), data, 'r')\n",
        "plt.title('시간별 가격 추이')\n",
        "plt.ylabel('주식 가격')\n",
        "plt.xlabel('시간(분)')\n",
        "plt.show()"
      ],
      "execution_count": null,
      "outputs": []
    },
    {
      "cell_type": "markdown",
      "metadata": {
        "id": "8HoLnL7XZwfY"
      },
      "source": [
        "Google colab에서 기본적으로 제공하는 matplotlib은 한글 폰트가 설치되어 있지 않다.\n",
        "\n",
        "우선 설치되어 있는 폰트는 다음과 같이 확인할 수 있다."
      ]
    },
    {
      "cell_type": "code",
      "metadata": {
        "id": "oSQ_eU2EasO-"
      },
      "source": [
        "import matplotlib.font_manager as fm\n",
        "\n",
        "sys_font=fm.findSystemFonts()\n",
        "for font in sys_font:\n",
        "    print(font)"
      ],
      "execution_count": null,
      "outputs": []
    },
    {
      "cell_type": "markdown",
      "metadata": {
        "id": "aBf96-UnbJnU"
      },
      "source": [
        "나눔 폰트를 설치하는 코드는 다음과 같다."
      ]
    },
    {
      "cell_type": "code",
      "metadata": {
        "id": "9DNTjgNhbLqB"
      },
      "source": [
        "!apt install fonts-nanum*"
      ],
      "execution_count": null,
      "outputs": []
    },
    {
      "cell_type": "markdown",
      "metadata": {
        "id": "hBEfPQ0vhJOX"
      },
      "source": [
        "다시 확인해보면 나눔 폰트가 설치되어 있는 걸 확인할 수 있다."
      ]
    },
    {
      "cell_type": "code",
      "metadata": {
        "id": "QvhjfESjbfL2"
      },
      "source": [
        "sys_font=fm.findSystemFonts()\n",
        "for font in sys_font:\n",
        "    print(font)"
      ],
      "execution_count": null,
      "outputs": []
    },
    {
      "cell_type": "markdown",
      "metadata": {
        "id": "Dws8eKiBCzvo"
      },
      "source": [
        "여기서 font_manager를 `rebuild` 해줘야 한다."
      ]
    },
    {
      "cell_type": "code",
      "metadata": {
        "id": "F4tAxWQ7cN2T"
      },
      "source": [
        "fm._rebuild()"
      ],
      "execution_count": null,
      "outputs": []
    },
    {
      "cell_type": "markdown",
      "metadata": {
        "id": "uY993OFkC66o"
      },
      "source": [
        "rebuild가 끝난 후, <font color=\"red\">**상단 메뉴의 런타임에서 런타임 다시 시작 항목을 실행**</font>해야 한다."
      ]
    },
    {
      "cell_type": "code",
      "metadata": {
        "id": "WLUIv-osDhoU"
      },
      "source": [
        "# 상단 메뉴 - 런타임 - 런타임 다시 시작 - 예 선택"
      ],
      "execution_count": null,
      "outputs": []
    },
    {
      "cell_type": "markdown",
      "metadata": {
        "id": "AEJ4Ay__hRim"
      },
      "source": [
        "런타임을 다시 시작한 후, 설치된 나눔 폰트를 matplotlib에 적용해줘야 한다.\n",
        "\n",
        "적용하는 코드는 다음과 같다."
      ]
    },
    {
      "cell_type": "code",
      "metadata": {
        "id": "XkrwltLyb6c8"
      },
      "source": [
        "import matplotlib.pyplot as plt\n",
        "import matplotlib.font_manager as fm\n",
        "\n",
        "fpath = \"/usr/share/fonts/truetype/nanum/NanumGothic.ttf\"\n",
        "fname = fm.FontProperties(fname=fpath, size=12).get_name()\n",
        "plt.rc(\"font\", family=fname)"
      ],
      "execution_count": null,
      "outputs": []
    },
    {
      "cell_type": "markdown",
      "metadata": {
        "id": "vHLWRiBUDWn7"
      },
      "source": [
        "추가적으로, matplotlib에 한글 폰트를 적용되면 이번엔 마이너스 폰트가 제대로 출력되지 않는다.\n",
        "\n",
        "다음의 코드로 마이너스 폰트 또한 정상적으로 출력할 수 있다."
      ]
    },
    {
      "cell_type": "code",
      "metadata": {
        "id": "EEcUh3kocPpE"
      },
      "source": [
        "import matplotlib as mpl\n",
        "\n",
        "mpl.rcParams['axes.unicode_minus'] = False"
      ],
      "execution_count": null,
      "outputs": []
    },
    {
      "cell_type": "markdown",
      "metadata": {
        "id": "94gC9KcbDeKO"
      },
      "source": [
        "지금까지의 과정을 무사히 진행했다면 한글 폰트가 정상적으로 출력되는 걸 확인할 수 있다."
      ]
    },
    {
      "cell_type": "code",
      "metadata": {
        "id": "KciyMOlucbtU"
      },
      "source": [
        "import numpy as np\n",
        "\n",
        "data = np.random.randint(-200, 100, 50).cumsum()\n",
        "plt.plot(range(50), data, 'r')\n",
        "plt.title('시간별 가격 추이')\n",
        "plt.ylabel('주식 가격')\n",
        "plt.xlabel('시간(분)')\n",
        "plt.show()"
      ],
      "execution_count": null,
      "outputs": []
    },
    {
      "cell_type": "markdown",
      "metadata": {
        "id": "e2AaGhwMZa_V"
      },
      "source": [
        "## <font color=\"green\">축 설정하기</font>"
      ]
    },
    {
      "cell_type": "markdown",
      "metadata": {
        "id": "cirugbQaZa_W"
      },
      "source": [
        "\n",
        "\n",
        "**xlim()**, **ylim()** 함수를 통해 각 축의 범위를 설정할 수 있다.\n",
        "\n",
        "**axis()** 함수를 통해 한꺼번에 설정할 수도 있다. 이때는 xmin, xmax, ymin, ymax 값을 리스트 형태로 전달한다."
      ]
    },
    {
      "cell_type": "code",
      "metadata": {
        "scrolled": true,
        "id": "Se9zrzTSZa_X"
      },
      "source": [
        "plt.plot([1, 2, 3, 4], [1, 4, 9, 16])\n",
        "\n",
        "# plt.xlim(0, 5)\n",
        "# plt.ylim(0, 25)\n",
        "plt.axis([0, 5, 0, 25])\n",
        "\n",
        "plt.show()"
      ],
      "execution_count": null,
      "outputs": []
    },
    {
      "cell_type": "markdown",
      "metadata": {
        "id": "7BJGiLBH7Pqk"
      },
      "source": [
        "**xscale()**, **yscale()** 함수를 통해 각 축의 스케일을 설정할 수 있다.\n",
        "\n",
        "설정할 수 있는 스케일의 종류는 선형(linear), 로그(log), 시메트릭 로그(symlog), 로짓(logit)이 있다.\n",
        "\n",
        "**grid()** 함수를 통해 그리드(격자) 선을 표시할 수 있다."
      ]
    },
    {
      "cell_type": "code",
      "metadata": {
        "id": "_MUwbikr8HNx"
      },
      "source": [
        "import numpy as np\n",
        "import matplotlib.pyplot as plt\n",
        "\n",
        "x = np.arange(0., 1., .01)\n",
        "\n",
        "plt.plot(x, x)\n",
        "plt.yscale(\"linear\")\n",
        "plt.title(\"linear scale\")\n",
        "plt.grid()\n",
        "plt.show()\n",
        "\n",
        "plt.plot(x, x)\n",
        "plt.yscale(\"log\")\n",
        "plt.title(\"log scale\")\n",
        "plt.grid()\n",
        "plt.show()\n",
        "\n",
        "plt.plot(x, x)\n",
        "plt.yscale(\"symlog\")\n",
        "plt.title(\"symlog scale\")\n",
        "plt.grid()\n",
        "plt.show()\n",
        "\n",
        "plt.plot(x, x)\n",
        "plt.yscale(\"logit\")\n",
        "plt.title(\"logit scale\")\n",
        "plt.grid()\n",
        "plt.show()"
      ],
      "execution_count": null,
      "outputs": []
    },
    {
      "cell_type": "markdown",
      "metadata": {
        "id": "1Tcbp2oD8CXU"
      },
      "source": [
        "**xticks(), yticks()** 함수를 통해 각 축의 눈금(ticks)을 설정할 수 있다."
      ]
    },
    {
      "cell_type": "code",
      "metadata": {
        "id": "1BWOroNIEjY0"
      },
      "source": [
        "plt.plot([1, 3, 2, 4])\n",
        "plt.show()\n",
        "\n",
        "plt.plot([1, 3, 2, 4])\n",
        "plt.xticks(np.arange(0., 2., .5)) # 표시할 눈금 값을 numpy array 형태로 전달\n",
        "plt.show()\n",
        "\n",
        "plt.plot([1, 3, 2, 4])\n",
        "plt.xticks([0, 1, 3], ['January', 'February', 'March'], rotation=30) # 표시할 눈금 값, 명칭, 회전 설정\n",
        "plt.show()\n",
        "\n",
        "plt.plot([1, 3, 2, 4])\n",
        "plt.xticks([]) # 눈금을 없앰\n",
        "plt.show()"
      ],
      "execution_count": null,
      "outputs": []
    },
    {
      "cell_type": "markdown",
      "metadata": {
        "id": "y7AHCItL8C_r"
      },
      "source": [
        "## <font color=\"green\">스타일</font>"
      ]
    },
    {
      "cell_type": "markdown",
      "metadata": {
        "id": "2J6JCDgs9QuM"
      },
      "source": [
        "plot() 함수에 다양한 키워드 인수를 전달하여 스타일을 바꿀 수 있다."
      ]
    },
    {
      "cell_type": "code",
      "metadata": {
        "id": "yRJmuA8ZGByr"
      },
      "source": [
        "plt.plot([0, 1, 2, 3, 4, 5], [0, 1, 4, 9, 16, 25], \n",
        "         color=\"red\", \n",
        "         linestyle=\"dashed\", \n",
        "         linewidth=2.5, \n",
        "         marker=\"o\", \n",
        "         markeredgecolor=\"green\", \n",
        "         markerfacecolor=\"yellow\", \n",
        "         markersize=9.3)\n",
        "\n",
        "plt.show()"
      ],
      "execution_count": null,
      "outputs": []
    },
    {
      "cell_type": "markdown",
      "metadata": {
        "id": "yamyRczYI5GD"
      },
      "source": [
        "상징을 사용해서 문자열 형태로 설정할 수도 있다."
      ]
    },
    {
      "cell_type": "code",
      "metadata": {
        "id": "Qax1QHmlA3q6"
      },
      "source": [
        "x = np.linspace(0, 2 * np.pi, 10)\n",
        "\n",
        "plt.plot(x, np.sin(x), \"ro--\", x, np.cos(x), \"g^-.\", x, -np.sin(x), \"bx:\") # 적색 선 원형 마커 실선 / 녹색 선 삼각형 마커 실점선 / 청색 선 가위표 마커 점선\n",
        "plt.xlim(0, 2 * np.pi)\n",
        "\n",
        "plt.show()"
      ],
      "execution_count": null,
      "outputs": []
    },
    {
      "cell_type": "markdown",
      "metadata": {
        "id": "D0Iaece7HZDM"
      },
      "source": [
        "# <font color=\"blue\">막대 그래프(bar chart) 그리기</font>"
      ]
    },
    {
      "cell_type": "markdown",
      "metadata": {
        "id": "ZlhFFsSwHh85"
      },
      "source": [
        "**bar()** 함수를 이용해서 막대 그래프를 그릴 수 있다."
      ]
    },
    {
      "cell_type": "code",
      "metadata": {
        "id": "ogibGroSKU7_"
      },
      "source": [
        "x1 = [1, 3, 4, 5, 6, 7, 9]\n",
        "y1 = [4, 7, 2, 4, 7, 8, 3]\n",
        "\n",
        "x2 = [2, 4, 6, 8, 10]\n",
        "y2 = [5, 6, 2, 6, 2]\n",
        "\n",
        "plt.bar(x1, y1, label=\"Blue Bar\", color='blue', edgecolor=\"yellow\", linewidth=3)\n",
        "plt.bar(x2, y2, label=\"Green Bar\", color='green', edgecolor=\"red\", linewidth=3)\n",
        "plt.plot()\n",
        "\n",
        "plt.xlabel(\"bar number\")\n",
        "plt.ylabel(\"bar height\")\n",
        "plt.title(\"Bar Chart Example\")\n",
        "plt.legend()\n",
        "plt.show()"
      ],
      "execution_count": null,
      "outputs": []
    },
    {
      "cell_type": "markdown",
      "metadata": {
        "id": "rv0s0E-X6HJ5"
      },
      "source": [
        "**barh()** 함수를 이용해서 수평 막대 그래프를 그릴 수 있다."
      ]
    },
    {
      "cell_type": "code",
      "metadata": {
        "id": "Vw7tpA_86LNG"
      },
      "source": [
        "x1 = [1, 3, 4, 5, 6, 7, 9]\n",
        "y1 = [4, 7, 2, 4, 7, 8, 3]\n",
        "\n",
        "x2 = [2, 4, 6, 8, 10]\n",
        "y2 = [5, 6, 2, 6, 2]\n",
        "\n",
        "plt.barh(x1, y1, label=\"Blue Bar\", color='blue', edgecolor=\"yellow\", linewidth=3)\n",
        "plt.barh(x2, y2, label=\"Green Bar\", color='green', edgecolor=\"red\", linewidth=3)\n",
        "plt.plot()\n",
        "\n",
        "plt.xlabel(\"bar number\")\n",
        "plt.ylabel(\"bar height\")\n",
        "plt.title(\"Bar Chart Example 2\")\n",
        "plt.legend()\n",
        "plt.gca().invert_yaxis() # y축의 순서를 거꾸로 한다.\n",
        "plt.show()"
      ],
      "execution_count": null,
      "outputs": []
    },
    {
      "cell_type": "markdown",
      "metadata": {
        "id": "dysxDL5SHj7Z"
      },
      "source": [
        "# <font color=\"blue\">산점도(scatter plot) 그리기</font>"
      ]
    },
    {
      "cell_type": "markdown",
      "metadata": {
        "id": "SNO2fA8JHmJY"
      },
      "source": [
        "**scatter()** 함수를 이용해서 산점도를 그릴 수 있다."
      ]
    },
    {
      "cell_type": "code",
      "metadata": {
        "id": "jE1Q2RAQGD2p"
      },
      "source": [
        "x1 = [2, 3, 4]\n",
        "y1 = [5, 5, 5]\n",
        "\n",
        "x2 = [1, 2, 3, 4, 5]\n",
        "y2 = [2, 3, 2, 3, 4]\n",
        "y3 = [6, 8, 7, 8, 7]\n",
        "\n",
        "plt.scatter(x1, y1)\n",
        "plt.scatter(x2, y2, marker='v', color='r')\n",
        "plt.scatter(x2, y3, marker='^', color='r')\n",
        "plt.title('Scatter Plot Example')\n",
        "plt.show()"
      ],
      "execution_count": null,
      "outputs": []
    },
    {
      "cell_type": "markdown",
      "metadata": {
        "id": "PzqzwR9zbf_6"
      },
      "source": [
        "삼차원 산점도를 그릴 수도 있다."
      ]
    },
    {
      "cell_type": "code",
      "metadata": {
        "id": "BiugIRMGbHwC"
      },
      "source": [
        "fig = plt.figure() # 새 figure 객체를 만든다. figure 객체는 그림과 관련된 모든 요소를 담는 최상위 컨테이너이다.\n",
        "ax = fig.add_subplot(111, projection = '3d') # figure 객체에 새 플롯을 추가한다.\n",
        "\n",
        "x1 = [1, 2, 3, 4, 5, 6, 7, 8, 9, 10]\n",
        "y1 = np.random.randint(10, size=10)\n",
        "z1 = np.random.randint(10, size=10)\n",
        "\n",
        "x2 = [-1, -2, -3, -4, -5, -6, -7, -8, -9, -10]\n",
        "y2 = np.random.randint(-10, 0, size=10)\n",
        "z2 = np.random.randint(10, size=10)\n",
        "\n",
        "ax.scatter(x1, y1, z1, c='b', marker='o', label='blue') # 플롯에 산점도를 추가한다.\n",
        "ax.scatter(x2, y2, z2, c='g', marker='D', label='green') # 플롯에 산점도를 추가한다.\n",
        "\n",
        "ax.set_xlabel('x axis')\n",
        "ax.set_ylabel('y axis')\n",
        "ax.set_zlabel('z axis')\n",
        "plt.title(\"3D Scatter Plot Example\")\n",
        "plt.legend()\n",
        "plt.tight_layout(pad=1) # figure 객체의 외곽선과 플롯 객체의 외곽선 간의 간격을 조정한다.\n",
        "plt.show()"
      ],
      "execution_count": null,
      "outputs": []
    },
    {
      "cell_type": "markdown",
      "metadata": {
        "id": "IQWKHuQWIQwQ"
      },
      "source": [
        "# <font color=\"blue\">히스토그램(histogram) 그리기</font>"
      ]
    },
    {
      "cell_type": "markdown",
      "metadata": {
        "id": "dKqIlvYYITcv"
      },
      "source": [
        "**hist()** 함수를 이용해서 히스토그램을 그릴 수 있다."
      ]
    },
    {
      "cell_type": "code",
      "metadata": {
        "id": "3_TNmcaWMql5"
      },
      "source": [
        "n = np.random.randn(1000) # 평균이 0, 표준편차가 1인 표준정규분포 난수 1000개 생성\n",
        "\n",
        "m = [m for m in range(len(n))] # 0 ~ 999까지의 정수로 이루어진 리스트\n",
        "plt.bar(m, n)\n",
        "plt.title(\"Raw Data\")\n",
        "plt.show()\n",
        "\n",
        "plt.hist(n, bins=20) # 표현할 데이터를 20개의 구간으로 나눈다.\n",
        "plt.title(\"Histogram\")\n",
        "plt.show()\n",
        "\n",
        "plt.hist(n, cumulative=True, bins=20)\n",
        "plt.title(\"Cumulative Histogram\")\n",
        "plt.show()"
      ],
      "execution_count": null,
      "outputs": []
    },
    {
      "cell_type": "markdown",
      "metadata": {
        "id": "X6-fYczjIaRA"
      },
      "source": [
        "# <font color=\"blue\">원 그래프(pie chart) 그리기</font>"
      ]
    },
    {
      "cell_type": "markdown",
      "metadata": {
        "id": "cT3bC4XP4Yio"
      },
      "source": [
        "**pie()** 함수를 이용해서 원 그래프를 그릴 수 있다."
      ]
    },
    {
      "cell_type": "code",
      "metadata": {
        "id": "S8v8g_cBujtV"
      },
      "source": [
        "plt.pie([0.3, 0.35, 0.4])\n",
        "\n",
        "plt.title('Pie Chart Example')\n",
        "plt.show()"
      ],
      "execution_count": null,
      "outputs": []
    },
    {
      "cell_type": "markdown",
      "metadata": {
        "id": "_YEe9Ebqu_zY"
      },
      "source": [
        "pie() 함수에 전달하는 값은 굳이 비율값을 전달하지 않고 일반적인 숫자 값을 전달하더라도 값들의 총합에 대한 비율을 알아서 계산해서 표시해준다.\n",
        "\n",
        "다양한 옵션들을 이용해서 원 그래프를 다른 방식으로 표시할 수 있다."
      ]
    },
    {
      "cell_type": "code",
      "metadata": {
        "id": "Vc1ihetpskLD"
      },
      "source": [
        "sections = [12, 24, 36]\n",
        "labels = 'S1', 'S2', 'S3'\n",
        "colors = ['r', 'g', 'b']\n",
        "\n",
        "plt.pie(sections, # 조각의 크기를 설정하는 기본값.\n",
        "        explode=(0.2, 0, 0), # 조각을 중심으로부터 얼마만큼 떨어지게 할 것인지 설정한다.\n",
        "        labels=labels, # 조각의 이름을 표시한다.\n",
        "        colors=colors, # 조각의 색깔을 결정한다.\n",
        "        autopct='%.2f%%', # 비율(%)을 표시하는 형식 문자열을 지정한다.\n",
        "        shadow=True, # 그림자를 표시한다.\n",
        "        startangle=90, # 조각이 시작하는 위치를 결정한다. 기본 값은 0.\n",
        "        counterclock=False, # 반시계방향으로 순서대로 표시할지 결정한다. 기본 값은 True.\n",
        "        rotatelabels=True) # 조각의 이름을 회전시킨다. 기본 값은 False.\n",
        "\n",
        "plt.title('Pie Chart Example 2')\n",
        "plt.show()"
      ],
      "execution_count": null,
      "outputs": []
    },
    {
      "cell_type": "markdown",
      "metadata": {
        "id": "JLLEdloHIVOi"
      },
      "source": [
        "# <font color=\"blue\">서브플롯 그리기</font>"
      ]
    },
    {
      "cell_type": "markdown",
      "metadata": {
        "id": "8X9E4oET4Z3k"
      },
      "source": [
        "**subplot()** 함수를 이용해서 하나의 figure에 여러 개의 그래프를 하나의 figure에 모두 그릴 수 있다."
      ]
    },
    {
      "cell_type": "code",
      "metadata": {
        "id": "Sk3LjA9rz1CR"
      },
      "source": [
        "x1 = np.linspace(0.0, 5.0)\n",
        "x2 = np.linspace(0.0, 2.0)\n",
        "\n",
        "y1 = np.cos(2 * np.pi * x1) * np.exp(-x1)\n",
        "y2 = np.cos(2 * np.pi * x2)\n",
        "\n",
        "plt.subplot(2, 1, 1) # nrows=2, ncols=1, index=1\n",
        "plt.plot(x1, y1, 'o-')\n",
        "plt.title('A tale of 2 subplots')\n",
        "plt.ylabel('Damped oscillation')\n",
        "\n",
        "plt.subplot(2, 1, 2) # nrows=2, ncols=1, index=2\n",
        "plt.plot(x2, y2, '.-')\n",
        "plt.xlabel('time (s)')\n",
        "plt.ylabel('Undamped')\n",
        "\n",
        "plt.show()"
      ],
      "execution_count": null,
      "outputs": []
    },
    {
      "cell_type": "markdown",
      "metadata": {
        "id": "iEmEKD1a_iBB"
      },
      "source": [
        "**subplots()** 함수를 이용해서 표시할 수도 있다. subplots() 함수로 표시할 플롯의 개수를 설정한 다음, 반환되는 객체를 이용해서 각 플롯의 데이터를 설정한다."
      ]
    },
    {
      "cell_type": "code",
      "metadata": {
        "id": "7k1vUGEB_mYA"
      },
      "source": [
        "fig, axes = plt.subplots(2, 2, sharex=True, sharey=True) # 행의 개수, 열의 개수를 전달한다. x값과 y값을 공유하고 싶으면 각각 sharex, sharey 옵션을 True로 설정한다.\n",
        "\n",
        "fig.set_size_inches((8, 8)) # figure의 크기를 설정한다.\n",
        "\n",
        "axes[0, 0].scatter(np.random.random(100), np.random.random(100), color=\"cyan\", edgecolor=\"red\", alpha=0.5)\n",
        "axes[0, 1].scatter(np.random.random(100), np.random.random(100), color=\"magenta\", edgecolor=\"green\", alpha=0.5)\n",
        "axes[1, 0].scatter(np.random.random(100), np.random.random(100), color=\"yellow\", edgecolor=\"blue\", alpha=0.5)\n",
        "axes[1, 1].scatter(np.random.random(100), np.random.random(100), color=\"white\", edgecolor=\"black\", alpha=0.5)\n",
        "\n",
        "axes[0, 0].set_title(\"subplot 0\")\n",
        "axes[0, 1].set_title(\"subplot 1\")\n",
        "axes[1, 0].set_title(\"subplot 2\")\n",
        "axes[1, 1].set_title(\"subplot 3\")\n",
        "plt.show()"
      ],
      "execution_count": null,
      "outputs": []
    },
    {
      "cell_type": "markdown",
      "metadata": {
        "id": "cfHzCnXx7LUU"
      },
      "source": [
        "또는 **subplot2grid()** 함수를 이용해서 격자식 레이아웃 형태로 배치할 수도 있다."
      ]
    },
    {
      "cell_type": "code",
      "metadata": {
        "id": "Ycg4vGQB7S7N"
      },
      "source": [
        "fig = plt.figure()\n",
        "ax1 = plt.subplot2grid((6, 2), (0, 0), rowspan=1, colspan=1) # 격자 크기, 표시할 플롯의 위치, 행 통합, 열 통합 값을 차례로 전달한다.\n",
        "ax2 = plt.subplot2grid((6, 2), (1, 0), rowspan=3, colspan=2)\n",
        "ax3 = plt.subplot2grid((6, 2), (4, 0), rowspan=2, colspan=1)\n",
        "ax4 = plt.subplot2grid((6, 2), (4, 1), rowspan=1, colspan=1)\n",
        "\n",
        "ax1.plot(np.arange(100), np.random.rand(100))\n",
        "ax2.plot(np.arange(100), np.random.randint(10, size=100))\n",
        "ax3.plot(np.arange(50), np.random.randint(5, size=50))\n",
        "ax4.plot(np.arange(50), np.random.randint(5, size=50))\n",
        "\n",
        "plt.tight_layout()\n",
        "plt.show()"
      ],
      "execution_count": null,
      "outputs": []
    }
  ]
}