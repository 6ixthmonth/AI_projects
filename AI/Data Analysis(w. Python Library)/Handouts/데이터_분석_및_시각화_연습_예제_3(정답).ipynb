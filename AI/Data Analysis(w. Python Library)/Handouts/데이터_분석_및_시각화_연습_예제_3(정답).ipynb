{
  "nbformat": 4,
  "nbformat_minor": 0,
  "metadata": {
    "colab": {
      "name": "데이터 분석 및 시각화 연습 예제-3(정답).ipynb",
      "provenance": [],
      "collapsed_sections": [],
      "toc_visible": true
    },
    "kernelspec": {
      "name": "python3",
      "display_name": "Python 3"
    },
    "language_info": {
      "name": "python"
    }
  },
  "cells": [
    {
      "cell_type": "markdown",
      "metadata": {
        "id": "r5v-uztSIbap"
      },
      "source": [
        "# **데이터 분석 및 시각화 연습 예제-3**"
      ]
    },
    {
      "cell_type": "markdown",
      "metadata": {
        "id": "eXgqCZAG5_1W"
      },
      "source": [
        "# <font color=\"blue\">1. 데이터프레임 조작하기 예제</font>"
      ]
    },
    {
      "cell_type": "markdown",
      "metadata": {
        "id": "9vXufoj2-2JQ"
      },
      "source": [
        "## <font color=\"green\">2-1. 데이터 불러오기</font>"
      ]
    },
    {
      "cell_type": "code",
      "metadata": {
        "id": "AS96tm6I6iqE"
      },
      "source": [
        "import pandas as pd"
      ],
      "execution_count": null,
      "outputs": []
    },
    {
      "cell_type": "code",
      "metadata": {
        "id": "95BqVK7R6l38"
      },
      "source": [
        "# colab에서 파일을 업로드하려면 아래의 코드를 사용\n",
        "from google.colab import files\n",
        "uploaded = files.upload()"
      ],
      "execution_count": null,
      "outputs": []
    },
    {
      "cell_type": "code",
      "metadata": {
        "id": "B_G2Fne86-e7"
      },
      "source": [
        "# 0번 열을 데이터프레임의 인덱스로 사용하고, 문자열 데이터를 날짜 데이터로 변환\n",
        "air_quality = pd.read_csv(\"air_quality_no2_long.csv\")\n",
        "air_quality = air_quality.rename(columns={\"date.utc\": \"datetime\"})\n",
        "air_quality.head()"
      ],
      "execution_count": null,
      "outputs": []
    },
    {
      "cell_type": "markdown",
      "source": [
        "## <font color=\"green\">2-2. 시계열 데이터 다루기</font>"
      ],
      "metadata": {
        "id": "i8muvOHOMUwR"
      }
    },
    {
      "cell_type": "markdown",
      "source": [
        "### <font color=\"red\">2-2-1. 시계열 데이터 변환</font>"
      ],
      "metadata": {
        "id": "qBmM73IDNhoU"
      }
    },
    {
      "cell_type": "code",
      "source": [
        "air_quality[\"datetime\"]"
      ],
      "metadata": {
        "id": "w9UhYemIM3L4"
      },
      "execution_count": null,
      "outputs": []
    },
    {
      "cell_type": "markdown",
      "source": [
        "기본적으로 datetime 열의 데이터는 문자열이며 연도, 요일 추출 등의 날짜-시간 관련 연산을 제공하지 않는다.\n",
        "\n",
        "---\n",
        "\n",
        "`to_datetime` 함수를 적용함으로써, pandas는 문자열을 인식하고 날짜-시간(datetime64[ns, UTC]) 객체로 변환한다."
      ],
      "metadata": {
        "id": "UfXTdMzmQLWI"
      }
    },
    {
      "cell_type": "code",
      "source": [
        "air_quality[\"datetime\"] = pd.to_datetime(air_quality[\"datetime\"])"
      ],
      "metadata": {
        "id": "5v2sYj_KNESt"
      },
      "execution_count": null,
      "outputs": []
    },
    {
      "cell_type": "code",
      "source": [
        "air_quality[\"datetime\"]"
      ],
      "metadata": {
        "id": "1eD_cnqHNFid"
      },
      "execution_count": null,
      "outputs": []
    },
    {
      "cell_type": "markdown",
      "source": [
        "pandas에서는 날짜-시간 객체를 `pandas.Timestamp` 클래스 및 그 확장 클래스들로 처리하며, 이는 python 표준 라이브러리의 `datetime.datetime` 클래스와 유사하다."
      ],
      "metadata": {
        "id": "BAcroJKHRSBp"
      }
    },
    {
      "cell_type": "code",
      "source": [
        "type(air_quality[\"datetime\"].dtypes)"
      ],
      "metadata": {
        "id": "U8Y9wO6ARz1V"
      },
      "execution_count": null,
      "outputs": []
    },
    {
      "cell_type": "markdown",
      "source": [
        "`read_csv` 및 `read_json` 함수에는 파일을 불러올 때 시계열 데이터로 변환할지 지정하는 옵션, *parse_dates*를 사용할 수 있다."
      ],
      "metadata": {
        "id": "d5Ty4eUTTUBL"
      }
    },
    {
      "cell_type": "code",
      "source": [
        "# 파일을 불러오면서 date.utc 열을 지정해서 날짜 형식으로 변경\n",
        "pd.read_csv(\"air_quality_no2_long.csv\", parse_dates=[\"date.utc\"]).info()"
      ],
      "metadata": {
        "id": "lg4slpA_NUAx"
      },
      "execution_count": null,
      "outputs": []
    },
    {
      "cell_type": "markdown",
      "source": [
        "*pandas.Timestamp* 클래스 및 그 관련 클래스들을 사용하면 날짜-시간 연산이 가능하다."
      ],
      "metadata": {
        "id": "ozAFx_JtYZB6"
      }
    },
    {
      "cell_type": "code",
      "source": [
        "# 관측 기록 시작일 및 종료일 출력\n",
        "air_quality[\"datetime\"].min(), air_quality[\"datetime\"].max()"
      ],
      "metadata": {
        "id": "JP-mfOu_NwnO"
      },
      "execution_count": null,
      "outputs": []
    },
    {
      "cell_type": "code",
      "source": [
        "# 관측 기간 출력\n",
        "air_quality[\"datetime\"].max() - air_quality[\"datetime\"].min()"
      ],
      "metadata": {
        "id": "v7B0DjUCNynq"
      },
      "execution_count": null,
      "outputs": []
    },
    {
      "cell_type": "markdown",
      "source": [
        "`pandas.Timestamp` 클래스는 다양한 속성들을 제공하는데, *dt* 속성을 통해 특정 날짜-시간 관련 데이터를 추출할 수 있다."
      ],
      "metadata": {
        "id": "HESszTveY55-"
      }
    },
    {
      "cell_type": "code",
      "source": [
        "air_quality[\"datetime\"].dt"
      ],
      "metadata": {
        "id": "mPsGsfZ5Zf2k"
      },
      "execution_count": null,
      "outputs": []
    },
    {
      "cell_type": "code",
      "source": [
        "dir(air_quality[\"datetime\"].dt)"
      ],
      "metadata": {
        "id": "JgTBR8r6ZVbe"
      },
      "execution_count": null,
      "outputs": []
    },
    {
      "cell_type": "code",
      "source": [
        "# 관측 날짜 데이터에서 연도 데이터만 추출해서 새로운 열 지정\n",
        "air_quality[\"year\"] = air_quality[\"datetime\"].dt.year\n",
        "air_quality"
      ],
      "metadata": {
        "id": "jeGwvzQxZpKb"
      },
      "execution_count": null,
      "outputs": []
    },
    {
      "cell_type": "code",
      "source": [
        "# 관측 날짜 데이터에서 시각 데이터만 추출해서 새로운 열 지정\n",
        "air_quality[\"hour\"] = air_quality[\"datetime\"].dt.hour\n",
        "air_quality"
      ],
      "metadata": {
        "id": "N3XhC4SrZple"
      },
      "execution_count": null,
      "outputs": []
    },
    {
      "cell_type": "markdown",
      "source": [
        "### <font color=\"red\">2-2-2. 시계열 데이터 그룹화</font>"
      ],
      "metadata": {
        "id": "r0G65miEOQ3j"
      }
    },
    {
      "cell_type": "markdown",
      "source": [
        "`Dataframe.groupby` 함수를 사용할 때 그룹으로 묶을 기준 열을 제시해야 하는데, 이때 시계열 데이터에서 추출한 데이터를 지정할 수 있다."
      ],
      "metadata": {
        "id": "koAlSCNqaUh6"
      }
    },
    {
      "cell_type": "code",
      "source": [
        "# 각 요일별, 관측소별 평균 측정값 구하기\n",
        "air_quality.groupby(\n",
        "    [air_quality[\"datetime\"].dt.weekday, \"location\"]\n",
        ")[\"value\"].mean()"
      ],
      "metadata": {
        "id": "nio4yaQSOHQw"
      },
      "execution_count": null,
      "outputs": []
    },
    {
      "cell_type": "code",
      "source": [
        "# 0: 월요일, 6: 일요일\n",
        "air_quality[\"datetime\"].dt.weekday"
      ],
      "metadata": {
        "id": "wmtVe01cb9mi"
      },
      "execution_count": null,
      "outputs": []
    },
    {
      "cell_type": "code",
      "source": [
        "# 각 주별, 관측소별 평균 측정값 구하기\n",
        "air_quality.groupby(\n",
        "    [air_quality[\"datetime\"].dt.week, \"location\"]\n",
        ")[\"value\"].mean()"
      ],
      "metadata": {
        "id": "QeygohaEcf-1"
      },
      "execution_count": null,
      "outputs": []
    },
    {
      "cell_type": "code",
      "source": [
        "# 각 월별, 관측소별 측정 횟수 구하기\n",
        "air_quality.groupby(\n",
        "    [air_quality[\"datetime\"].dt.month, \"location\"]\n",
        ")[\"value\"].count()"
      ],
      "metadata": {
        "id": "a17NrmMwcqR-"
      },
      "execution_count": null,
      "outputs": []
    },
    {
      "cell_type": "code",
      "source": [
        "# 시간별 평균 측정값 시각화\n",
        "import matplotlib.pyplot as plt\n",
        "\n",
        "fig, ax = plt.subplots(figsize=(12, 4))\n",
        "\n",
        "air_quality.groupby(\n",
        "    air_quality[\"datetime\"].dt.hour\n",
        ")[\"value\"].mean().plot.bar(\n",
        "    rot=0, ax=ax\n",
        ")\n",
        "\n",
        "plt.show()"
      ],
      "metadata": {
        "id": "E2vNluOLOw0j"
      },
      "execution_count": null,
      "outputs": []
    }
  ]
}