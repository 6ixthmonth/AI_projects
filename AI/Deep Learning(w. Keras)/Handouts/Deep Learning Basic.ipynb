{
 "cells": [
  {
   "cell_type": "code",
   "execution_count": null,
   "id": "258535a1",
   "metadata": {},
   "outputs": [],
   "source": [
    "# 모듈 불러오기\n",
    "import numpy as np\n",
    "\n",
    "# from tensorflow.keras import Sequential\n",
    "from tensorflow.keras.models import Sequential\n",
    "from tensorflow.keras.layers import Dense\n",
    "\n",
    "from sklearn.model_selection import train_test_split"
   ]
  },
  {
   "cell_type": "code",
   "execution_count": null,
   "id": "a6afa252",
   "metadata": {},
   "outputs": [],
   "source": [
    "# 하이퍼패러미터 설정\n",
    "epoch = 10\n",
    "batch = 16"
   ]
  },
  {
   "cell_type": "code",
   "execution_count": null,
   "id": "664b8848",
   "metadata": {},
   "outputs": [],
   "source": [
    "# 입력 및 출력 데이터 생성\n",
    "# 0 이상 1 미만의 임의의 실수 1000행 100열 생성(입력 데이터)\n",
    "x = np.random.random((1000, 100))\n",
    "\n",
    "# 0 이상 6 미만의 임의의 정수 1000행 1열 생성(출력 데이터)\n",
    "y = np.random.randint(-1, 2, size = (1000, 1))"
   ]
  },
  {
   "cell_type": "code",
   "execution_count": null,
   "id": "912be189",
   "metadata": {},
   "outputs": [],
   "source": [
    "# 입력 및 출력 데이터 확인\n",
    "# print(x)\n",
    "# print(y)\n",
    "print(x.shape)\n",
    "print(y.shape)"
   ]
  },
  {
   "cell_type": "code",
   "execution_count": null,
   "id": "144bf477",
   "metadata": {},
   "outputs": [],
   "source": [
    "# 인공 신경망 모델 생성\n",
    "model = Sequential()\n",
    "\n",
    "# model.add(Dense(32, activation='tanh', input_shape=(100,))\n",
    "model.add(Dense(32, activation='tanh', input_dim=100))\n",
    "model.add(Dense(1, activation='tanh'))\n",
    "\n",
    "model.summary()\n",
    "\n",
    "# model.save(\"before.h5\")"
   ]
  },
  {
   "cell_type": "code",
   "execution_count": null,
   "id": "696defd9",
   "metadata": {},
   "outputs": [],
   "source": [
    "# Configures the model for training.\n",
    "model.compile(optimizer='sgd', loss='mse', metrics=['accuracy'])"
   ]
  },
  {
   "cell_type": "code",
   "execution_count": null,
   "id": "ba2f88d0",
   "metadata": {},
   "outputs": [],
   "source": [
    "# Trains the model for a fixed number of epochs (iterations on a dataset).\n",
    "model.fit(x, y, batch_size=batch, epochs=epoch)\n",
    "# model.save('after.h5')"
   ]
  },
  {
   "cell_type": "code",
   "execution_count": null,
   "id": "6bd54ec2",
   "metadata": {},
   "outputs": [],
   "source": [
    "# Returns the loss value & metrics values for the model in test mode.\n",
    "# Computation is done in batches (see the batch_size arg.)\n",
    "(loss, accuracy) = model.evaluate(x, y, verbose=1)\n",
    "print('Test loss:', loss)\n",
    "print('Test accuracy:', accuracy)"
   ]
  }
 ],
 "metadata": {
  "kernelspec": {
   "display_name": "Python 3 (ipykernel)",
   "language": "python",
   "name": "python3"
  },
  "language_info": {
   "codemirror_mode": {
    "name": "ipython",
    "version": 3
   },
   "file_extension": ".py",
   "mimetype": "text/x-python",
   "name": "python",
   "nbconvert_exporter": "python",
   "pygments_lexer": "ipython3",
   "version": "3.7.13"
  }
 },
 "nbformat": 4,
 "nbformat_minor": 5
}
