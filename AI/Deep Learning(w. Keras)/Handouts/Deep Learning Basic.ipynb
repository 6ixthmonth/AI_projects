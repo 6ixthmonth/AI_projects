{
 "cells": [
  {
   "cell_type": "code",
   "execution_count": null,
   "metadata": {
    "id": "Tmn5qpNLgae_"
   },
   "outputs": [],
   "source": [
    "# 패키지 수입\n",
    "import numpy as np\n",
    "import pandas as pd\n",
    "import matplotlib.pyplot as plt\n",
    "\n",
    "from keras.utils import np_utils\n",
    "from keras.models import Sequential\n",
    "from keras.layers import InputLayer, Conv2D, MaxPool2D, Flatten, Dense\n",
    "\n",
    "from sklearn.datasets import load_digits\n",
    "from sklearn.model_selection import train_test_split\n",
    "from sklearn.metrics import confusion_matrix"
   ]
  },
  {
   "cell_type": "code",
   "execution_count": null,
   "metadata": {
    "id": "Sn21D29g_-Uz"
   },
   "outputs": [],
   "source": [
    "# 하이퍼 패러미터 설정\n",
    "MY_EPOCH = 50\n",
    "MY_BATCH = 100"
   ]
  },
  {
   "cell_type": "code",
   "execution_count": null,
   "metadata": {
    "id": "NOsURhgoiEaw"
   },
   "outputs": [],
   "source": [
    "# 데이터 불러오기\n",
    "digits = load_digits()\n",
    "X = digits.data\n",
    "Y = digits.target"
   ]
  },
  {
   "cell_type": "code",
   "execution_count": null,
   "metadata": {
    "id": "xVK3gbxIqJyr"
   },
   "outputs": [],
   "source": [
    "# 샘플 데이터 시각화\n",
    "plt.rcParams[\"figure.figsize\"] = (10, 10)\n",
    "sample_num = 100\n",
    "\n",
    "fig, ax = plt.subplots(3, 3)\n",
    "\n",
    "for row in range(3):\n",
    "    for col in range(3):\n",
    "        sub = ax[row, col]\n",
    "        sub.imshow(X[sample_num].reshape(8, 8), cmap=\"gray\")\n",
    "\n",
    "        sub.set_title(str(sample_num) + \": \" + str(Y[sample_num]))\n",
    "        sub.set_xticks([])\n",
    "        sub.set_yticks([])\n",
    "\n",
    "        sample_num += 100\n",
    "\n",
    "plt.show()"
   ]
  },
  {
   "cell_type": "code",
   "execution_count": null,
   "metadata": {
    "id": "QX1I_9Kzuj9H"
   },
   "outputs": [],
   "source": [
    "# 입력 데이터에 색상 채널 수 추가\n",
    "X = X.reshape(X.shape[0], 8, 8, 1)"
   ]
  },
  {
   "cell_type": "code",
   "execution_count": null,
   "metadata": {
    "id": "vQ8R_KGrvRN9"
   },
   "outputs": [],
   "source": [
    "# 입력 데이터 스케일링\n",
    "X = X / 255.0"
   ]
  },
  {
   "cell_type": "code",
   "execution_count": null,
   "metadata": {
    "id": "PgLxNkhW_nZ0"
   },
   "outputs": [],
   "source": [
    "# 출력 데이터 원-핫 인코딩\n",
    "Y = np_utils.to_categorical(Y, 10)"
   ]
  },
  {
   "cell_type": "code",
   "execution_count": null,
   "metadata": {
    "id": "VCUTbAnGC2y9"
   },
   "outputs": [],
   "source": [
    "# 학습용, 평가용 데이터 분할\n",
    "X_train, X_test, Y_train, Y_test = train_test_split(X, Y, test_size=0.25, random_state=43)"
   ]
  },
  {
   "cell_type": "code",
   "execution_count": null,
   "metadata": {
    "id": "LPTcVrFz_vJV"
   },
   "outputs": [],
   "source": [
    "# 인공신경망 구축\n",
    "model = Sequential()\n",
    "\n",
    "model.add(InputLayer(input_shape=(8, 8, 1)))\n",
    "\n",
    "model.add(Conv2D(12, kernel_size=(4, 4), padding=\"same\", activation=\"relu\"))\n",
    "model.add(MaxPool2D(pool_size=(2, 2), padding=\"same\"))\n",
    "\n",
    "model.add(Conv2D(24, kernel_size=(4, 4), padding=\"same\", activation=\"relu\"))\n",
    "model.add(MaxPool2D(pool_size=(2, 2), padding=\"same\"))\n",
    "\n",
    "model.add(Flatten())\n",
    "model.add(Dense(2000, activation=\"relu\"))\n",
    "model.add(Dense(10, activation=\"softmax\"))\n",
    "\n",
    "model.summary()"
   ]
  },
  {
   "cell_type": "code",
   "execution_count": null,
   "metadata": {
    "id": "PdcMbKUvA2Ej"
   },
   "outputs": [],
   "source": [
    "# 기타 옵션 설정\n",
    "model.compile(optimizer=\"adam\", loss=\"categorical_crossentropy\", metrics=[\"acc\"])"
   ]
  },
  {
   "cell_type": "code",
   "execution_count": null,
   "metadata": {
    "id": "XxxFVmwTBB35"
   },
   "outputs": [],
   "source": [
    "# 학습 진행\n",
    "hist = model.fit(X_train, Y_train, batch_size=MY_BATCH, epochs=MY_EPOCH, verbose=1, validation_data=(X_test, Y_test))"
   ]
  },
  {
   "cell_type": "code",
   "execution_count": null,
   "metadata": {
    "id": "VHqt-phDDstc"
   },
   "outputs": [],
   "source": [
    "# 학습 내역 시각화\n",
    "fig, loss_ax = plt.subplots()\n",
    "acc_ax = loss_ax.twinx()\n",
    "\n",
    "loss_ax.plot(hist.history[\"loss\"], \"r\", label=\"train loss\")\n",
    "loss_ax.plot(hist.history[\"val_loss\"], \"m\", label=\"val loss\")\n",
    "\n",
    "acc_ax.plot(hist.history[\"acc\"], \"b\", label=\"train acc\")\n",
    "acc_ax.plot(hist.history[\"val_acc\"], \"c\", label=\"val acc\")\n",
    "\n",
    "loss_ax.set_xlabel(\"Epochs\")\n",
    "loss_ax.set_ylabel(\"Loss\")\n",
    "acc_ax.set_ylabel(\"Accuracy\")\n",
    "\n",
    "loss_ax.legend()\n",
    "acc_ax.legend()\n",
    "\n",
    "plt.show()"
   ]
  },
  {
   "cell_type": "code",
   "execution_count": null,
   "metadata": {
    "id": "haAX_hKUGk-k"
   },
   "outputs": [],
   "source": [
    "# 학습 모델 평가\n",
    "loss, acc = model.evaluate(X_test, Y_test, batch_size=MY_BATCH, verbose=1)\n",
    "print(\"Test loss:\", loss)\n",
    "print(\"Test accuracy:\", acc)"
   ]
  },
  {
   "cell_type": "code",
   "execution_count": null,
   "metadata": {
    "id": "JV9ghNv0Gfps"
   },
   "outputs": [],
   "source": [
    "# 예측 데이터 생성\n",
    "Y_pred = model.predict(X_test, batch_size=MY_BATCH, verbose=1)"
   ]
  },
  {
   "cell_type": "code",
   "execution_count": null,
   "metadata": {
    "id": "d0G2dfxmHm08"
   },
   "outputs": [],
   "source": [
    "# 원-핫 인코딩 되돌리기\n",
    "Y_test = np.argmax(Y_test, axis=1)\n",
    "Y_pred = np.argmax(Y_pred, axis=1)"
   ]
  },
  {
   "cell_type": "code",
   "execution_count": null,
   "metadata": {
    "id": "UHZ-7aF3IDy5"
   },
   "outputs": [],
   "source": [
    "# 혼동 행렬 생성\n",
    "cm = confusion_matrix(Y_test, Y_pred)\n",
    "cm = pd.DataFrame(cm)\n",
    "display(cm)"
   ]
  },
  {
   "cell_type": "code",
   "execution_count": null,
   "metadata": {
    "id": "iejml3lxInh-"
   },
   "outputs": [],
   "source": [
    "# 틀린 예측 데이터 시각화\n",
    "row = 3\n",
    "col = 3\n",
    "\n",
    "fig, ax = plt.subplots(row, col)\n",
    "\n",
    "i = 0\n",
    "cnt = 0\n",
    "\n",
    "while cnt < (row * col):\n",
    "    if Y_test[i] == Y_pred[i]:\n",
    "        i += 1\n",
    "        continue\n",
    "\n",
    "    sub = ax[int(cnt/row), int(cnt%col)]\n",
    "    sub.imshow(X_test[i].reshape(8, 8), cmap=\"gray\")\n",
    "\n",
    "    title = str(i) + \"- Predict: \" + str(Y_pred[i]) + \"\\nActual: \" + str(Y_test[i]) \n",
    "    sub.set_title(title)\n",
    "    sub.set_xticks([])\n",
    "    sub.set_yticks([])\n",
    "\n",
    "    i += 1\n",
    "    cnt += 1\n",
    "\n",
    "plt.show()"
   ]
  }
 ],
 "metadata": {
  "colab": {
   "authorship_tag": "ABX9TyOMF2xnvGQ6JsyCxziD6gVe",
   "name": "SWDO 6기 3차 역량평가(정답).ipynb",
   "private_outputs": true,
   "provenance": []
  },
  "kernelspec": {
   "display_name": "Python 3 (ipykernel)",
   "language": "python",
   "name": "python3"
  },
  "language_info": {
   "codemirror_mode": {
    "name": "ipython",
    "version": 3
   },
   "file_extension": ".py",
   "mimetype": "text/x-python",
   "name": "python",
   "nbconvert_exporter": "python",
   "pygments_lexer": "ipython3",
   "version": "3.7.13"
  }
 },
 "nbformat": 4,
 "nbformat_minor": 1
}
