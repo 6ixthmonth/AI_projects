{
 "cells": [
  {
   "cell_type": "code",
   "execution_count": 3,
   "id": "258535a1",
   "metadata": {},
   "outputs": [],
   "source": [
    "# 모듈 불러오기\n",
    "import numpy as np\n",
    "\n",
    "# from tensorflow.keras import Sequential\n",
    "from tensorflow.keras.models import Sequential\n",
    "from tensorflow.keras.layers import Dense"
   ]
  },
  {
   "cell_type": "code",
   "execution_count": null,
   "id": "a6afa252",
   "metadata": {},
   "outputs": [],
   "source": [
    "# 하이퍼패러미터 설정\n",
    "EPOCH = 10\n",
    "BATCH = 16"
   ]
  },
  {
   "cell_type": "code",
   "execution_count": null,
   "id": "664b8848",
   "metadata": {},
   "outputs": [],
   "source": [
    "# 0 이상 1 미만의 임의의 실수 1000행 100열 생성(입력 데이터)\n",
    "x = np.random.random((1000, 100))\n",
    "\n",
    "# 0 이상 6 미만의 임의의 정수 1000행 1열 생성(출력 데이터)\n",
    "y = np.random.randint(6, size = (1000, 1))"
   ]
  },
  {
   "cell_type": "code",
   "execution_count": null,
   "id": "912be189",
   "metadata": {},
   "outputs": [],
   "source": [
    "print('\\n== DATABASE SHAPE INFO ==')\n",
    "print('Input shape = ', data.shape)\n",
    "print('Output shape = ', labels.shape)\n",
    "\n",
    "print(\"\\nFirst input:\")\n",
    "print(data[0])\n",
    "print(\"\\nFirst output:\")\n",
    "print(labels[0])"
   ]
  },
  {
   "cell_type": "code",
   "execution_count": null,
   "id": "144bf477",
   "metadata": {},
   "outputs": [],
   "source": [
    "# 학습 모델 생성\n",
    "model = Sequential()\n",
    "\n",
    "# model.add(Dense(32, activation='sigmoid', input_shape=(100,))\n",
    "model.add(Dense(32, activation='sigmoid', input_dim=100))\n",
    "model.add(Dense(1, activation='sigmoid'))\n",
    "\n",
    "model.summary()\n",
    "\n",
    "model.save('before.h5')"
   ]
  },
  {
   "cell_type": "code",
   "execution_count": null,
   "id": "696defd9",
   "metadata": {},
   "outputs": [],
   "source": [
    "# Configures the model for training.\n",
    "model.compile(optimizer='rmsprop', loss='categorical_crossentropy', metrics=['accuracy'])"
   ]
  },
  {
   "cell_type": "code",
   "execution_count": null,
   "id": "ba2f88d0",
   "metadata": {},
   "outputs": [],
   "source": [
    "# Trains the model for a fixed number of epochs (iterations on a dataset).\n",
    "model.fit(x, y, batch_size=BATCH, epochs=EPOCH)\n",
    "model.save('after.h5')"
   ]
  },
  {
   "cell_type": "code",
   "execution_count": null,
   "id": "6bd54ec2",
   "metadata": {},
   "outputs": [],
   "source": [
    "# Returns the loss value & metrics values for the model in test mode.\n",
    "# Computation is done in batches (see the batch_size arg.)\n",
    "(loss, accuracy) = model.evaluate(x, y, verbose=1)\n",
    "print('Test loss:', loss)\n",
    "print('Test accuracy:', accuracy)"
   ]
  }
 ],
 "metadata": {
  "kernelspec": {
   "display_name": "Python 3 (ipykernel)",
   "language": "python",
   "name": "python3"
  },
  "language_info": {
   "codemirror_mode": {
    "name": "ipython",
    "version": 3
   },
   "file_extension": ".py",
   "mimetype": "text/x-python",
   "name": "python",
   "nbconvert_exporter": "python",
   "pygments_lexer": "ipython3",
   "version": "3.9.12"
  }
 },
 "nbformat": 4,
 "nbformat_minor": 5
}
