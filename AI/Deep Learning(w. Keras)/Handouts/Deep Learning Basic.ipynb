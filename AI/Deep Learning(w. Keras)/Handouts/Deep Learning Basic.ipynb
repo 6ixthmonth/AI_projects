{
 "cells": [
  {
   "cell_type": "code",
   "execution_count": null,
   "id": "258535a1",
   "metadata": {},
   "outputs": [],
   "source": [
    "from keras.models import Sequential\n",
    "from keras.layers import Dense\n",
    "import numpy as np"
   ]
  },
  {
   "cell_type": "code",
   "execution_count": null,
   "id": "a6afa252",
   "metadata": {},
   "outputs": [],
   "source": [
    "# global constants and hyper-parameters\n",
    "MY_EPOCH = 10\n",
    "MY_BATCH = 16"
   ]
  },
  {
   "cell_type": "code",
   "execution_count": null,
   "id": "664b8848",
   "metadata": {},
   "outputs": [],
   "source": [
    "# create a random DB\n",
    "np.set_printoptions(precision = 3)\n",
    "\n",
    "# generates random floating point number in [0, 1]\n",
    "data = np.random.random((1000, 100))\n",
    "\n",
    "# generates random integer in [0, 5]\n",
    "labels = np.random.randint(6, size = (1000, 1))"
   ]
  },
  {
   "cell_type": "code",
   "execution_count": null,
   "id": "912be189",
   "metadata": {},
   "outputs": [],
   "source": [
    "print('\\n== DATABASE SHAPE INFO ==')\n",
    "print('Input shape = ', data.shape)\n",
    "print('Output shape = ', labels.shape)\n",
    "\n",
    "print(\"\\nFirst input:\")\n",
    "print(data[0])\n",
    "print(\"\\nFirst output:\")\n",
    "print(labels[0])"
   ]
  },
  {
   "cell_type": "code",
   "execution_count": null,
   "id": "144bf477",
   "metadata": {},
   "outputs": [],
   "source": [
    "# keras sequential model\n",
    "model = Sequential()\n",
    "\n",
    "model.add(Dense(32, activation = 'sigmoid', input_dim = 100))\n",
    "model.add(Dense(1, activation = 'sigmoid'))\n",
    "model.summary()\n",
    "model.save('before.h5')"
   ]
  },
  {
   "cell_type": "code",
   "execution_count": null,
   "id": "696defd9",
   "metadata": {},
   "outputs": [],
   "source": [
    "# model compilation setting\n",
    "model.compile(optimizer = 'rmsprop', loss = 'binary_crossentropy', metrics = ['accuracy'])\n",
    "\n",
    "# model training and saving\n",
    "model.fit(data, labels, epochs = MY_EPOCH, batch_size = MY_BATCH, verbose = 1)\n",
    "model.save('after.h5')"
   ]
  },
  {
   "cell_type": "code",
   "execution_count": null,
   "id": "6bd54ec2",
   "metadata": {},
   "outputs": [],
   "source": [
    "score = model.evaluate(data, labels, verbose = 1)\n",
    "print('Test loss:', score[0])\n",
    "print('Test accuracy:', score[1])"
   ]
  }
 ],
 "metadata": {
  "kernelspec": {
   "display_name": "Python 3 (ipykernel)",
   "language": "python",
   "name": "python3"
  },
  "language_info": {
   "codemirror_mode": {
    "name": "ipython",
    "version": 3
   },
   "file_extension": ".py",
   "mimetype": "text/x-python",
   "name": "python",
   "nbconvert_exporter": "python",
   "pygments_lexer": "ipython3",
   "version": "3.9.12"
  }
 },
 "nbformat": 4,
 "nbformat_minor": 5
}
